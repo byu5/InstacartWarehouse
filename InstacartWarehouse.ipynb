{
 "cells": [
  {
   "cell_type": "code",
   "execution_count": 1,
   "id": "68f59410-5405-4ef4-8f31-8ef3e4c64128",
   "metadata": {},
   "outputs": [
    {
     "ename": "ModuleNotFoundError",
     "evalue": "No module named 'folium'",
     "output_type": "error",
     "traceback": [
      "\u001b[0;31m---------------------------------------------------------------------------\u001b[0m",
      "\u001b[0;31mModuleNotFoundError\u001b[0m                       Traceback (most recent call last)",
      "\u001b[0;32m<ipython-input-1-a5c7144d8fbe>\u001b[0m in \u001b[0;36m<module>\u001b[0;34m\u001b[0m\n\u001b[1;32m      6\u001b[0m \u001b[0;32mfrom\u001b[0m \u001b[0mitertools\u001b[0m \u001b[0;32mimport\u001b[0m \u001b[0mcombinations\u001b[0m\u001b[0;34m\u001b[0m\u001b[0;34m\u001b[0m\u001b[0m\n\u001b[1;32m      7\u001b[0m \u001b[0;32mfrom\u001b[0m \u001b[0msklearn\u001b[0m\u001b[0;34m.\u001b[0m\u001b[0mcluster\u001b[0m \u001b[0;32mimport\u001b[0m \u001b[0mKMeans\u001b[0m\u001b[0;34m\u001b[0m\u001b[0;34m\u001b[0m\u001b[0m\n\u001b[0;32m----> 8\u001b[0;31m \u001b[0;32mimport\u001b[0m \u001b[0mfolium\u001b[0m\u001b[0;34m\u001b[0m\u001b[0;34m\u001b[0m\u001b[0m\n\u001b[0m\u001b[1;32m      9\u001b[0m \u001b[0;31m# Load data\u001b[0m\u001b[0;34m\u001b[0m\u001b[0;34m\u001b[0m\u001b[0;34m\u001b[0m\u001b[0m\n\u001b[1;32m     10\u001b[0m \u001b[0mdata\u001b[0m \u001b[0;34m=\u001b[0m \u001b[0mpd\u001b[0m\u001b[0;34m.\u001b[0m\u001b[0mread_excel\u001b[0m\u001b[0;34m(\u001b[0m\u001b[0;34m'Map_of_Schools_filter.xlsx'\u001b[0m\u001b[0;34m)\u001b[0m\u001b[0;34m\u001b[0m\u001b[0;34m\u001b[0m\u001b[0m\n",
      "\u001b[0;31mModuleNotFoundError\u001b[0m: No module named 'folium'"
     ]
    }
   ],
   "source": [
    "%matplotlib inline\n",
    "# Import libraries\n",
    "import numpy as np\n",
    "import pandas as pd\n",
    "import matplotlib.pyplot as plt\n",
    "from itertools import combinations\n",
    "from sklearn.cluster import KMeans\n",
    "import folium\n",
    "# Load data\n",
    "data = pd.read_excel('Map_of_Schools_filter.xlsx')\n",
    "\n",
    "# Color options\n",
    "color_options = {'Campus Name': 'red',\n",
    "                 'Category': 'yellow',\n",
    "                 'flow': 'purple',\n",
    "                 'cog': 'blue',\n",
    "                 'candidate': 'black',\n",
    "                 'other': 'gray'}\n",
    "# Instantiate map\n",
    "m = folium.Map(location=data[['Latitude', 'Longitude']].mean(),\n",
    "               fit_bounds=[[data['Latitude'].min(),\n",
    "                            data['Longitude'].min()],\n",
    "                           [data['Latitude'].max(),\n",
    "                            data['Longitude'].max()]])\n",
    "# Add volume points\n",
    "for _, row in data.iterrows():\n",
    "    folium.CircleMarker(location=[row['Latitude'],\n",
    "                                  row['Longitude']],\n",
    "                        radius=(row['Volume']**0.5),\n",
    "                        tooltip=str(row['Campus Name'])+' '+str(row['Volume'])).add_to(m)\n",
    "                                #row['Longitude']]).add_to(m)\n",
    "# Zoom based on volume points\n",
    "m.fit_bounds(data[['Latitude', 'Longitude']].values.tolist())\n",
    "# Show the map\n",
    "m"
   ]
  },
  {
   "cell_type": "code",
   "execution_count": null,
   "id": "27854645-1490-4f67-80f4-28fb680b5be1",
   "metadata": {},
   "outputs": [],
   "source": [
    "# The outbound shipments cost twice as much as inbound shipments\n",
    "IB_OB_ratio = 2\n",
    "def loc_type_mult(x):\n",
    "    \"\"\"A function to get the volume multiplier based on the location type and the IB-OB ratio.\n",
    "    x: The location type\n",
    "    \"\"\"\n",
    "    if x.lower() == 'supply':\n",
    "        # No need to divide since we are already multiplying the demand\n",
    "        return 1\n",
    "    elif x.lower() == 'demand':\n",
    "        # Only apply multiplier to demand\n",
    "        return IB_OB_ratio\n",
    "    else:\n",
    "        # If neither supply nor demand, remove entirely\n",
    "        return 0\n",
    "# Adjust volumes used in the computation based on IB-OB ratio\n",
    "data['Calc_Vol'] = data['Location Type'].apply(str).apply(loc_type_mult)*data['Volume']"
   ]
  },
  {
   "cell_type": "code",
   "execution_count": null,
   "id": "b3506eec-08f6-4f7e-9689-cb5b1a24a43e",
   "metadata": {},
   "outputs": [],
   "source": [
    "# Fit K-means for 2 centroids\n",
    "kmeans = KMeans(n_clusters=2, \n",
    "                random_state=0).fit(data.loc[data['Calc_Vol']>0, ['Latitude', \n",
    "                                                                  'Longitude']], \n",
    "                                    sample_weight=data.loc[data['Calc_Vol']>0, \n",
    "                                                           'Calc_Vol'])\n",
    "# Get centers of gravity from K-means\n",
    "cogs = kmeans.cluster_centers_\n",
    "cogs = pd.DataFrame(cogs, columns=['Latitude',\n",
    "                                   'Longitude'])\n",
    "# Get volume assigned to each cluster\n",
    "data['Cluster'] = kmeans.predict(data[['Latitude', 'Longitude']])\n",
    "cogs = cogs.join(data.groupby('Cluster')['Volume'].sum())\n",
    "# Include assigned COG coordinates in data by point \n",
    "data = data.join(cogs, on='Cluster', rsuffix='_COG')"
   ]
  },
  {
   "cell_type": "code",
   "execution_count": null,
   "id": "57b73b9a-2001-45cb-8f6d-310cc458f293",
   "metadata": {},
   "outputs": [],
   "source": [
    "# Add flow lines to centers of gravity to map\n",
    "for _, row in data.iterrows():\n",
    "    # Flow lines\n",
    "    if str(row['Location Type']).lower() in (['demand', 'supply']):\n",
    "        folium.PolyLine([(row['Latitude'],\n",
    "                          row['Longitude']),\n",
    "                         (row['Latitude_COG'],\n",
    "                          row['Longitude_COG'])],\n",
    "                        color=color_options['flow'],\n",
    "                        weight=(row['Volume']**0.5),\n",
    "                        opacity=0.8).add_to(m)\n",
    "                        \n",
    "# Add centers of gravity to map\n",
    "for _, row in cogs.iterrows():\n",
    "    # New centers of gravity\n",
    "    folium.CircleMarker(location=[row['Latitude'],\n",
    "                                  row['Longitude']],\n",
    "                        radius=(row['Volume']**0.5),\n",
    "                        color=color_options['other'],\n",
    "                        tooltip=row['Volume']).add_to(m)\n",
    "    \n",
    "# Show map\n",
    "m"
   ]
  }
 ],
 "metadata": {
  "kernelspec": {
   "display_name": "Python 3",
   "language": "python",
   "name": "python3"
  },
  "language_info": {
   "codemirror_mode": {
    "name": "ipython",
    "version": 3
   },
   "file_extension": ".py",
   "mimetype": "text/x-python",
   "name": "python",
   "nbconvert_exporter": "python",
   "pygments_lexer": "ipython3",
   "version": "3.6.13"
  }
 },
 "nbformat": 4,
 "nbformat_minor": 5
}
